


get_ipython().getoutput("pip install ai-edge-litert-nightly")








get_ipython().getoutput("pip install kagglehub")


import kagglehub

# Example, downloading yolov5
path = kagglehub.model_download("kaggle/yolo-v5/tfLite/tflite-tflite-model")
print("Path to model files:", path)


import os

# Path to .tflite model file
model_path = path+'/1.tflite'
# Get the size of the .tflite file
model_size = os.path.getsize(model_path)
# Convert size to megabytes
model_size_mb = model_size / (1024 ** 2)
print(f"Size of the model: {model_size_mb:.2f} MB")


# Same to above
def checkModelSize(path):
    size = os.path.getsize(path) / (1024 ** 2)
    print(f"Size of the model: {size:.2f} MB")
    return

















get_ipython().getoutput("pip install ai-edge-model-explorer")
get_ipython().getoutput("model-explorer")



