{
 "cells": [
  {
   "cell_type": "markdown",
   "id": "6927929b-709c-4738-a7fa-96ee25bb54e6",
   "metadata": {},
   "source": [
    "# LiteRT\n",
    "\n",
    "You can find ready-to-run LiteRT models for a wide range of ML/AI tasks, or convert and run TensorFlow, PyTorch, and JAX models to the TFLite format using the AI Edge conversion and optimization tools.\n",
    "\n",
    "link: https://ai.google.dev/edge/litert"
   ]
  },
  {
   "cell_type": "code",
   "execution_count": null,
   "id": "c080c380-233c-409c-a497-4005bea2df06",
   "metadata": {},
   "outputs": [],
   "source": [
    "!pip install ai-edge-litert-nightly"
   ]
  },
  {
   "cell_type": "markdown",
   "id": "736af3af-c058-4cf8-88a2-d0fb7e8c5a35",
   "metadata": {},
   "source": [
    "In this section, we will explore essential aspects of working with LiteRT, focusing on three key areas:\n",
    "1. Where to Find Models\n",
    "2. Key Steps for Reducing Model Size\n",
    "3. Deploying the Model onto the Board"
   ]
  },
  {
   "cell_type": "markdown",
   "id": "0a3b08bd-92e1-4949-b835-fcc29d56dd12",
   "metadata": {},
   "source": [
    "#### Ready-to-run models\n",
    "\n",
    "link: https://www.kaggle.com/models?framework=tfLite"
   ]
  },
  {
   "cell_type": "code",
   "execution_count": null,
   "id": "1f4fac39-8f31-4e92-98ca-4001f70465b4",
   "metadata": {},
   "outputs": [],
   "source": [
    "!pip install kagglehub"
   ]
  },
  {
   "cell_type": "code",
   "execution_count": null,
   "id": "b8ad47b4-f853-4e83-be9c-d99f836fa6d1",
   "metadata": {},
   "outputs": [],
   "source": [
    "import kagglehub\n",
    "\n",
    "# Example, downloading yolov5\n",
    "path = kagglehub.model_download(\"kaggle/yolo-v5/tfLite/tflite-tflite-model\")\n",
    "print(\"Path to model files:\", path)"
   ]
  },
  {
   "cell_type": "code",
   "execution_count": null,
   "id": "ad7ecd18-37e2-42a5-9a40-85c72d4f1389",
   "metadata": {},
   "outputs": [],
   "source": [
    "import os\n",
    "\n",
    "# Path to .tflite model file\n",
    "model_path = path+'/1.tflite'\n",
    "# Get the size of the .tflite file\n",
    "model_size = os.path.getsize(model_path)\n",
    "# Convert size to megabytes\n",
    "model_size_mb = model_size / (1024 ** 2)\n",
    "print(f\"Size of the model: {model_size_mb:.2f} MB\")"
   ]
  },
  {
   "cell_type": "code",
   "execution_count": null,
   "id": "f93299a6-dcbb-41ee-9367-4ea8af50906e",
   "metadata": {},
   "outputs": [],
   "source": [
    "# Same to above\n",
    "def checkModelSize(path):\n",
    "    size = os.path.getsize(path) / (1024 ** 2)\n",
    "    print(f\"Size of the model: {size:.2f} MB\")\n",
    "    return"
   ]
  },
  {
   "cell_type": "markdown",
   "id": "fc342406-e694-4b55-bca5-075fb1215629",
   "metadata": {},
   "source": [
    "#### Train your own .tflite models\n",
    "Supported frameworks:\n",
    "1. TensorFlow: https://ai.google.dev/edge/litert/models/convert_tf\n",
    "2. PyTorch: https://ai.google.dev/edge/litert/models/convert_pytorch\n",
    "3. JAX: https://ai.google.dev/edge/litert/models/convert_jax"
   ]
  },
  {
   "cell_type": "code",
   "execution_count": null,
   "id": "ee08b7c6-8bfe-42dd-8b0b-391a37963b18",
   "metadata": {},
   "outputs": [],
   "source": []
  },
  {
   "cell_type": "markdown",
   "id": "b0577c0b-e2b6-4de4-ae5d-fe6fa7473e23",
   "metadata": {},
   "source": [
    "## Model explorer\n",
    "\n",
    "Supported model formats: TF (.pb, .pbtxt, .graphdef), TFLite (.tflite), TFJS (.json), JAX (.pb), PyTorch ExportedProgram (.pt2), MLIR (.mlir, .mlirbc). \n",
    "\n",
    "link: https://github.com/google-ai-edge/model-explorer\n"
   ]
  },
  {
   "cell_type": "code",
   "execution_count": null,
   "id": "bd142c8c-a5ea-4f5b-981c-16240523baea",
   "metadata": {
    "scrolled": true
   },
   "outputs": [],
   "source": [
    "!pip install ai-edge-model-explorer\n",
    "!model-explorer"
   ]
  },
  {
   "cell_type": "code",
   "execution_count": null,
   "id": "b3a8842a-8fce-4d5f-ae68-834dba89ed8f",
   "metadata": {},
   "outputs": [],
   "source": []
  }
 ],
 "metadata": {
  "kernelspec": {
   "display_name": "Python 3 (ipykernel)",
   "language": "python",
   "name": "python3"
  },
  "language_info": {
   "codemirror_mode": {
    "name": "ipython",
    "version": 3
   },
   "file_extension": ".py",
   "mimetype": "text/x-python",
   "name": "python",
   "nbconvert_exporter": "python",
   "pygments_lexer": "ipython3",
   "version": "3.10.12"
  }
 },
 "nbformat": 4,
 "nbformat_minor": 5
}
